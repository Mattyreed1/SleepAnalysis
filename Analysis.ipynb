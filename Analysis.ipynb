{
 "cells": [
  {
   "cell_type": "code",
   "execution_count": 2,
   "metadata": {},
   "outputs": [],
   "source": [
    "import pandas\n",
    "import numpy as np\n",
    "import math"
   ]
  },
  {
   "cell_type": "code",
   "execution_count": 3,
   "metadata": {
    "scrolled": true
   },
   "outputs": [
    {
     "output_type": "execute_result",
     "data": {
      "text/plain": [
       "       Heart rate (bpm)         Steps  Air Pressure (Pa)  Movements per hour  \\\n",
       "count       1037.000000   1037.000000        1037.000000         1037.000000   \n",
       "mean           2.279653   3442.538091         100.701929           51.439248   \n",
       "std           11.270408   3500.268331           5.523772           26.061872   \n",
       "min            0.000000      0.000000           0.000000            0.000000   \n",
       "25%            0.000000      0.000000         100.600000           37.700000   \n",
       "50%            0.000000   3219.000000         101.000000           49.300000   \n",
       "75%            0.000000   5451.000000         101.400000           61.300000   \n",
       "max           67.000000  24901.000000         102.800000          414.000000   \n",
       "\n",
       "       Time in bed (seconds)  Time asleep (seconds)  \\\n",
       "count            1037.000000            1037.000000   \n",
       "mean            27761.055159           24924.869142   \n",
       "std              5183.722344            4542.398533   \n",
       "min                 0.000000             994.200000   \n",
       "25%             26206.100000           23250.700000   \n",
       "50%             28740.100000           25562.200000   \n",
       "75%             30639.000000           27515.100000   \n",
       "max             43609.200000           37503.900000   \n",
       "\n",
       "       Time before sleep (seconds)   Snore time  Weather temperature (°F)  \n",
       "count                  1037.000000  1037.000000               1037.000000  \n",
       "mean                   1268.614079   172.579653                 47.281485  \n",
       "std                    1032.682986   442.679456                 12.327545  \n",
       "min                       9.500000     0.000000                 26.800000  \n",
       "25%                     542.200000     0.000000                 32.000000  \n",
       "50%                     881.000000     0.000000                 50.200000  \n",
       "75%                    1838.200000   130.000000                 56.800000  \n",
       "max                    5827.200000  5885.000000                 82.200000  "
      ],
      "text/html": "<div>\n<style scoped>\n    .dataframe tbody tr th:only-of-type {\n        vertical-align: middle;\n    }\n\n    .dataframe tbody tr th {\n        vertical-align: top;\n    }\n\n    .dataframe thead th {\n        text-align: right;\n    }\n</style>\n<table border=\"1\" class=\"dataframe\">\n  <thead>\n    <tr style=\"text-align: right;\">\n      <th></th>\n      <th>Heart rate (bpm)</th>\n      <th>Steps</th>\n      <th>Air Pressure (Pa)</th>\n      <th>Movements per hour</th>\n      <th>Time in bed (seconds)</th>\n      <th>Time asleep (seconds)</th>\n      <th>Time before sleep (seconds)</th>\n      <th>Snore time</th>\n      <th>Weather temperature (°F)</th>\n    </tr>\n  </thead>\n  <tbody>\n    <tr>\n      <th>count</th>\n      <td>1037.000000</td>\n      <td>1037.000000</td>\n      <td>1037.000000</td>\n      <td>1037.000000</td>\n      <td>1037.000000</td>\n      <td>1037.000000</td>\n      <td>1037.000000</td>\n      <td>1037.000000</td>\n      <td>1037.000000</td>\n    </tr>\n    <tr>\n      <th>mean</th>\n      <td>2.279653</td>\n      <td>3442.538091</td>\n      <td>100.701929</td>\n      <td>51.439248</td>\n      <td>27761.055159</td>\n      <td>24924.869142</td>\n      <td>1268.614079</td>\n      <td>172.579653</td>\n      <td>47.281485</td>\n    </tr>\n    <tr>\n      <th>std</th>\n      <td>11.270408</td>\n      <td>3500.268331</td>\n      <td>5.523772</td>\n      <td>26.061872</td>\n      <td>5183.722344</td>\n      <td>4542.398533</td>\n      <td>1032.682986</td>\n      <td>442.679456</td>\n      <td>12.327545</td>\n    </tr>\n    <tr>\n      <th>min</th>\n      <td>0.000000</td>\n      <td>0.000000</td>\n      <td>0.000000</td>\n      <td>0.000000</td>\n      <td>0.000000</td>\n      <td>994.200000</td>\n      <td>9.500000</td>\n      <td>0.000000</td>\n      <td>26.800000</td>\n    </tr>\n    <tr>\n      <th>25%</th>\n      <td>0.000000</td>\n      <td>0.000000</td>\n      <td>100.600000</td>\n      <td>37.700000</td>\n      <td>26206.100000</td>\n      <td>23250.700000</td>\n      <td>542.200000</td>\n      <td>0.000000</td>\n      <td>32.000000</td>\n    </tr>\n    <tr>\n      <th>50%</th>\n      <td>0.000000</td>\n      <td>3219.000000</td>\n      <td>101.000000</td>\n      <td>49.300000</td>\n      <td>28740.100000</td>\n      <td>25562.200000</td>\n      <td>881.000000</td>\n      <td>0.000000</td>\n      <td>50.200000</td>\n    </tr>\n    <tr>\n      <th>75%</th>\n      <td>0.000000</td>\n      <td>5451.000000</td>\n      <td>101.400000</td>\n      <td>61.300000</td>\n      <td>30639.000000</td>\n      <td>27515.100000</td>\n      <td>1838.200000</td>\n      <td>130.000000</td>\n      <td>56.800000</td>\n    </tr>\n    <tr>\n      <th>max</th>\n      <td>67.000000</td>\n      <td>24901.000000</td>\n      <td>102.800000</td>\n      <td>414.000000</td>\n      <td>43609.200000</td>\n      <td>37503.900000</td>\n      <td>5827.200000</td>\n      <td>5885.000000</td>\n      <td>82.200000</td>\n    </tr>\n  </tbody>\n</table>\n</div>"
     },
     "metadata": {},
     "execution_count": 3
    }
   ],
   "source": [
    "# Read CSV and create dataframe.\n",
    "df = pandas.read_csv('sleepdata.csv',';')\n",
    "df.describe()"
   ]
  },
  {
   "cell_type": "code",
   "execution_count": 4,
   "metadata": {},
   "outputs": [
    {
     "output_type": "execute_result",
     "data": {
      "text/plain": [
       "                    Start                  End Sleep Quality Regularity  Mood  \\\n",
       "0     2016-02-08 23:41:35  2016-02-09 06:14:10           67%         0%   NaN   \n",
       "1     2016-02-10 00:18:58  2016-02-10 06:11:31           68%         0%   NaN   \n",
       "2     2016-02-11 23:47:33  2016-02-12 06:03:08           54%        94%   NaN   \n",
       "3     2016-02-13 00:03:54  2016-02-13 06:43:22           61%        93%   NaN   \n",
       "4     2016-02-15 23:52:50  2016-02-16 06:27:52           75%        96%   NaN   \n",
       "...                   ...                  ...           ...        ...   ...   \n",
       "1022  2021-02-08 23:48:09  2021-02-09 08:15:31           95%        92%    OK   \n",
       "1023  2021-02-09 23:01:27  2021-02-10 07:24:21           84%        89%    OK   \n",
       "1024  2021-02-12 00:11:10  2021-02-12 08:56:27           96%        82%  Good   \n",
       "1025  2021-02-14 00:56:02  2021-02-14 08:30:41           69%        90%    OK   \n",
       "1026  2021-02-15 22:18:17  2021-02-16 07:29:52           95%        70%  Good   \n",
       "\n",
       "      Heart rate (bpm)  Steps Alarm mode  Air Pressure (Pa)         City  ...  \\\n",
       "0                    0   2349     Normal              101.9          NaN  ...   \n",
       "1                    0   4549     Normal              102.0          NaN  ...   \n",
       "2                    0   2558     Normal              102.0          NaN  ...   \n",
       "3                    0   6663     Normal              102.0          NaN  ...   \n",
       "4                    0   6423     Normal              101.4          NaN  ...   \n",
       "...                ...    ...        ...                ...          ...  ...   \n",
       "1022                60   4663     Normal              101.4  Pismo Beach  ...   \n",
       "1023                63   6479     Normal              101.5  Pismo Beach  ...   \n",
       "1024                52   6128   No alarm              100.0  Los Angeles  ...   \n",
       "1025                66   4819   No alarm              101.1    San Diego  ...   \n",
       "1026                55   6598     Normal              101.5  Pismo Beach  ...   \n",
       "\n",
       "      Time in bed (seconds)  Time asleep (seconds)  \\\n",
       "0                   23555.1                21513.6   \n",
       "1                   21152.9                19531.2   \n",
       "2                   22535.7                20357.2   \n",
       "3                   23967.7                21411.2   \n",
       "4                   23701.3                22042.2   \n",
       "...                     ...                    ...   \n",
       "1022                30441.6                24860.6   \n",
       "1023                30173.5                27457.9   \n",
       "1024                31516.7                30886.4   \n",
       "1025                27279.7                22096.5   \n",
       "1026                33094.5                31108.8   \n",
       "\n",
       "      Time before sleep (seconds)         Window start          Window stop  \\\n",
       "0                           471.1  2016-02-09 06:00:00  2016-02-09 06:30:00   \n",
       "1                           423.1  2016-02-10 06:00:00  2016-02-10 06:30:00   \n",
       "2                           450.7  2016-02-12 06:00:00  2016-02-12 06:30:00   \n",
       "3                           479.4  2016-02-13 06:15:00  2016-02-13 06:45:00   \n",
       "4                           474.0  2016-02-16 06:05:00  2016-02-16 06:35:00   \n",
       "...                           ...                  ...                  ...   \n",
       "1022                        608.8  2021-02-09 07:30:00  2021-02-09 08:00:00   \n",
       "1023                        603.5  2021-02-10 07:15:00  2021-02-10 07:45:00   \n",
       "1024                        630.3                  NaN                  NaN   \n",
       "1025                       1273.1                  NaN                  NaN   \n",
       "1026                        661.9  2021-02-16 07:15:00  2021-02-16 07:45:00   \n",
       "\n",
       "     Did snore  Snore time  Weather temperature (°F)  Weather type  \\\n",
       "0        False         0.0                      32.0    No weather   \n",
       "1        False         0.0                      32.0    No weather   \n",
       "2        False         0.0                      32.0    No weather   \n",
       "3        False         0.0                      32.0    No weather   \n",
       "4        False         0.0                      32.0    No weather   \n",
       "...        ...         ...                       ...           ...   \n",
       "1022      True       300.4                      50.4        Cloudy   \n",
       "1023      True       154.4                      47.3         Sunny   \n",
       "1024      True       600.0                      50.7           Fog   \n",
       "1025      True      1823.0                      55.6         Sunny   \n",
       "1026      True       248.1                      49.5         Sunny   \n",
       "\n",
       "                                                  Notes  \n",
       "0                                                   NaN  \n",
       "1                                                   NaN  \n",
       "2                                                   NaN  \n",
       "3                                                   NaN  \n",
       "4                                                   NaN  \n",
       "...                                                 ...  \n",
       "1022  Aderrall:Allergy medicine before bed:Congested...  \n",
       "1023  Allergy medicine before bed:Congested sinuses ...  \n",
       "1024  Allergy medicine before bed:Congested sinuses ...  \n",
       "1025  Allergy medicine before bed:Congested sinuses ...  \n",
       "1026  Allergy medicine before bed:Congested sinuses ...  \n",
       "\n",
       "[1027 rows x 21 columns]"
      ],
      "text/html": "<div>\n<style scoped>\n    .dataframe tbody tr th:only-of-type {\n        vertical-align: middle;\n    }\n\n    .dataframe tbody tr th {\n        vertical-align: top;\n    }\n\n    .dataframe thead th {\n        text-align: right;\n    }\n</style>\n<table border=\"1\" class=\"dataframe\">\n  <thead>\n    <tr style=\"text-align: right;\">\n      <th></th>\n      <th>Start</th>\n      <th>End</th>\n      <th>Sleep Quality</th>\n      <th>Regularity</th>\n      <th>Mood</th>\n      <th>Heart rate (bpm)</th>\n      <th>Steps</th>\n      <th>Alarm mode</th>\n      <th>Air Pressure (Pa)</th>\n      <th>City</th>\n      <th>...</th>\n      <th>Time in bed (seconds)</th>\n      <th>Time asleep (seconds)</th>\n      <th>Time before sleep (seconds)</th>\n      <th>Window start</th>\n      <th>Window stop</th>\n      <th>Did snore</th>\n      <th>Snore time</th>\n      <th>Weather temperature (°F)</th>\n      <th>Weather type</th>\n      <th>Notes</th>\n    </tr>\n  </thead>\n  <tbody>\n    <tr>\n      <th>0</th>\n      <td>2016-02-08 23:41:35</td>\n      <td>2016-02-09 06:14:10</td>\n      <td>67%</td>\n      <td>0%</td>\n      <td>NaN</td>\n      <td>0</td>\n      <td>2349</td>\n      <td>Normal</td>\n      <td>101.9</td>\n      <td>NaN</td>\n      <td>...</td>\n      <td>23555.1</td>\n      <td>21513.6</td>\n      <td>471.1</td>\n      <td>2016-02-09 06:00:00</td>\n      <td>2016-02-09 06:30:00</td>\n      <td>False</td>\n      <td>0.0</td>\n      <td>32.0</td>\n      <td>No weather</td>\n      <td>NaN</td>\n    </tr>\n    <tr>\n      <th>1</th>\n      <td>2016-02-10 00:18:58</td>\n      <td>2016-02-10 06:11:31</td>\n      <td>68%</td>\n      <td>0%</td>\n      <td>NaN</td>\n      <td>0</td>\n      <td>4549</td>\n      <td>Normal</td>\n      <td>102.0</td>\n      <td>NaN</td>\n      <td>...</td>\n      <td>21152.9</td>\n      <td>19531.2</td>\n      <td>423.1</td>\n      <td>2016-02-10 06:00:00</td>\n      <td>2016-02-10 06:30:00</td>\n      <td>False</td>\n      <td>0.0</td>\n      <td>32.0</td>\n      <td>No weather</td>\n      <td>NaN</td>\n    </tr>\n    <tr>\n      <th>2</th>\n      <td>2016-02-11 23:47:33</td>\n      <td>2016-02-12 06:03:08</td>\n      <td>54%</td>\n      <td>94%</td>\n      <td>NaN</td>\n      <td>0</td>\n      <td>2558</td>\n      <td>Normal</td>\n      <td>102.0</td>\n      <td>NaN</td>\n      <td>...</td>\n      <td>22535.7</td>\n      <td>20357.2</td>\n      <td>450.7</td>\n      <td>2016-02-12 06:00:00</td>\n      <td>2016-02-12 06:30:00</td>\n      <td>False</td>\n      <td>0.0</td>\n      <td>32.0</td>\n      <td>No weather</td>\n      <td>NaN</td>\n    </tr>\n    <tr>\n      <th>3</th>\n      <td>2016-02-13 00:03:54</td>\n      <td>2016-02-13 06:43:22</td>\n      <td>61%</td>\n      <td>93%</td>\n      <td>NaN</td>\n      <td>0</td>\n      <td>6663</td>\n      <td>Normal</td>\n      <td>102.0</td>\n      <td>NaN</td>\n      <td>...</td>\n      <td>23967.7</td>\n      <td>21411.2</td>\n      <td>479.4</td>\n      <td>2016-02-13 06:15:00</td>\n      <td>2016-02-13 06:45:00</td>\n      <td>False</td>\n      <td>0.0</td>\n      <td>32.0</td>\n      <td>No weather</td>\n      <td>NaN</td>\n    </tr>\n    <tr>\n      <th>4</th>\n      <td>2016-02-15 23:52:50</td>\n      <td>2016-02-16 06:27:52</td>\n      <td>75%</td>\n      <td>96%</td>\n      <td>NaN</td>\n      <td>0</td>\n      <td>6423</td>\n      <td>Normal</td>\n      <td>101.4</td>\n      <td>NaN</td>\n      <td>...</td>\n      <td>23701.3</td>\n      <td>22042.2</td>\n      <td>474.0</td>\n      <td>2016-02-16 06:05:00</td>\n      <td>2016-02-16 06:35:00</td>\n      <td>False</td>\n      <td>0.0</td>\n      <td>32.0</td>\n      <td>No weather</td>\n      <td>NaN</td>\n    </tr>\n    <tr>\n      <th>...</th>\n      <td>...</td>\n      <td>...</td>\n      <td>...</td>\n      <td>...</td>\n      <td>...</td>\n      <td>...</td>\n      <td>...</td>\n      <td>...</td>\n      <td>...</td>\n      <td>...</td>\n      <td>...</td>\n      <td>...</td>\n      <td>...</td>\n      <td>...</td>\n      <td>...</td>\n      <td>...</td>\n      <td>...</td>\n      <td>...</td>\n      <td>...</td>\n      <td>...</td>\n      <td>...</td>\n    </tr>\n    <tr>\n      <th>1022</th>\n      <td>2021-02-08 23:48:09</td>\n      <td>2021-02-09 08:15:31</td>\n      <td>95%</td>\n      <td>92%</td>\n      <td>OK</td>\n      <td>60</td>\n      <td>4663</td>\n      <td>Normal</td>\n      <td>101.4</td>\n      <td>Pismo Beach</td>\n      <td>...</td>\n      <td>30441.6</td>\n      <td>24860.6</td>\n      <td>608.8</td>\n      <td>2021-02-09 07:30:00</td>\n      <td>2021-02-09 08:00:00</td>\n      <td>True</td>\n      <td>300.4</td>\n      <td>50.4</td>\n      <td>Cloudy</td>\n      <td>Aderrall:Allergy medicine before bed:Congested...</td>\n    </tr>\n    <tr>\n      <th>1023</th>\n      <td>2021-02-09 23:01:27</td>\n      <td>2021-02-10 07:24:21</td>\n      <td>84%</td>\n      <td>89%</td>\n      <td>OK</td>\n      <td>63</td>\n      <td>6479</td>\n      <td>Normal</td>\n      <td>101.5</td>\n      <td>Pismo Beach</td>\n      <td>...</td>\n      <td>30173.5</td>\n      <td>27457.9</td>\n      <td>603.5</td>\n      <td>2021-02-10 07:15:00</td>\n      <td>2021-02-10 07:45:00</td>\n      <td>True</td>\n      <td>154.4</td>\n      <td>47.3</td>\n      <td>Sunny</td>\n      <td>Allergy medicine before bed:Congested sinuses ...</td>\n    </tr>\n    <tr>\n      <th>1024</th>\n      <td>2021-02-12 00:11:10</td>\n      <td>2021-02-12 08:56:27</td>\n      <td>96%</td>\n      <td>82%</td>\n      <td>Good</td>\n      <td>52</td>\n      <td>6128</td>\n      <td>No alarm</td>\n      <td>100.0</td>\n      <td>Los Angeles</td>\n      <td>...</td>\n      <td>31516.7</td>\n      <td>30886.4</td>\n      <td>630.3</td>\n      <td>NaN</td>\n      <td>NaN</td>\n      <td>True</td>\n      <td>600.0</td>\n      <td>50.7</td>\n      <td>Fog</td>\n      <td>Allergy medicine before bed:Congested sinuses ...</td>\n    </tr>\n    <tr>\n      <th>1025</th>\n      <td>2021-02-14 00:56:02</td>\n      <td>2021-02-14 08:30:41</td>\n      <td>69%</td>\n      <td>90%</td>\n      <td>OK</td>\n      <td>66</td>\n      <td>4819</td>\n      <td>No alarm</td>\n      <td>101.1</td>\n      <td>San Diego</td>\n      <td>...</td>\n      <td>27279.7</td>\n      <td>22096.5</td>\n      <td>1273.1</td>\n      <td>NaN</td>\n      <td>NaN</td>\n      <td>True</td>\n      <td>1823.0</td>\n      <td>55.6</td>\n      <td>Sunny</td>\n      <td>Allergy medicine before bed:Congested sinuses ...</td>\n    </tr>\n    <tr>\n      <th>1026</th>\n      <td>2021-02-15 22:18:17</td>\n      <td>2021-02-16 07:29:52</td>\n      <td>95%</td>\n      <td>70%</td>\n      <td>Good</td>\n      <td>55</td>\n      <td>6598</td>\n      <td>Normal</td>\n      <td>101.5</td>\n      <td>Pismo Beach</td>\n      <td>...</td>\n      <td>33094.5</td>\n      <td>31108.8</td>\n      <td>661.9</td>\n      <td>2021-02-16 07:15:00</td>\n      <td>2021-02-16 07:45:00</td>\n      <td>True</td>\n      <td>248.1</td>\n      <td>49.5</td>\n      <td>Sunny</td>\n      <td>Allergy medicine before bed:Congested sinuses ...</td>\n    </tr>\n  </tbody>\n</table>\n<p>1027 rows × 21 columns</p>\n</div>"
     },
     "metadata": {},
     "execution_count": 4
    }
   ],
   "source": [
    "df.head(-10)"
   ]
  },
  {
   "cell_type": "code",
   "execution_count": 5,
   "metadata": {},
   "outputs": [],
   "source": [
    "# Clean data\n",
    "df['Sleep Quality'] = df['Sleep Quality'].apply(lambda x: int(x.replace(\"%\",\"\")))\n",
    "df['Regularity'] = df['Regularity'].apply(lambda x: int(x.replace(\"%\",\"\")))\n",
    "df = df[df['Sleep Quality'] > 0 ]\n",
    "df = df[df['Regularity'] > 0]\n",
    "df = df[df['Steps'] > 0 ]\n",
    "df = df[df['Time in bed (seconds)'] > 0]"
   ]
  },
  {
   "cell_type": "code",
   "execution_count": 6,
   "metadata": {},
   "outputs": [],
   "source": [
    "# Function to Change seconds to hours and minutes.\n",
    "def hours_mins(x):\n",
    "    mins = round(x/60)\n",
    "    hours = round(((x/60)/60), 2)\n",
    "    hrs_mins = (math.floor(hours), round(mins % 60))\n",
    "    #print(f'Total minutes: {round(mins,1)}')\n",
    "    #print(f'Total hours: {round(hours,1)}')\n",
    "    #print(hrs_mins)\n",
    "    return (mins,hours,hrs_mins)\n"
   ]
  },
  {
   "cell_type": "code",
   "execution_count": 7,
   "metadata": {},
   "outputs": [
    {
     "output_type": "execute_result",
     "data": {
      "text/plain": [
       "                    Start                  End  Sleep Quality  Regularity  \\\n",
       "2     2016-02-11 23:47:33  2016-02-12 06:03:08             54          94   \n",
       "3     2016-02-13 00:03:54  2016-02-13 06:43:22             61          93   \n",
       "4     2016-02-15 23:52:50  2016-02-16 06:27:52             75          96   \n",
       "5     2016-02-16 23:59:44  2016-02-17 06:06:09             72          96   \n",
       "6     2016-02-18 23:37:39  2016-02-19 06:23:58             79          95   \n",
       "...                   ...                  ...            ...         ...   \n",
       "1032  2021-02-22 23:09:43  2021-02-23 07:59:15             97          85   \n",
       "1033  2021-02-23 23:34:49  2021-02-24 08:07:43             91          89   \n",
       "1034  2021-02-24 23:15:55  2021-02-25 07:35:36             89          94   \n",
       "1035  2021-02-25 23:57:18  2021-02-26 07:54:59             90          93   \n",
       "1036  2021-02-28 00:37:37  2021-02-28 08:45:42             89          89   \n",
       "\n",
       "      Mood  Heart rate (bpm)  Steps Alarm mode  Air Pressure (Pa)  \\\n",
       "2      NaN                 0   2558     Normal              102.0   \n",
       "3      NaN                 0   6663     Normal              102.0   \n",
       "4      NaN                 0   6423     Normal              101.4   \n",
       "5      NaN                 0   3190     Normal              100.3   \n",
       "6      NaN                 0   2893     Normal              101.5   \n",
       "...    ...               ...    ...        ...                ...   \n",
       "1032    OK                 0   3680     Normal              101.7   \n",
       "1033    OK                 0   7117     Normal              101.5   \n",
       "1034  Good                53   4635     Normal              101.7   \n",
       "1035    OK                50   6302     Normal              101.8   \n",
       "1036    OK                59   6413     Normal              101.7   \n",
       "\n",
       "             City  ...         Window start          Window stop Did snore  \\\n",
       "2             NaN  ...  2016-02-12 06:00:00  2016-02-12 06:30:00     False   \n",
       "3             NaN  ...  2016-02-13 06:15:00  2016-02-13 06:45:00     False   \n",
       "4             NaN  ...  2016-02-16 06:05:00  2016-02-16 06:35:00     False   \n",
       "5             NaN  ...  2016-02-17 05:45:00  2016-02-17 06:15:00     False   \n",
       "6             NaN  ...  2016-02-19 06:10:00  2016-02-19 06:40:00     False   \n",
       "...           ...  ...                  ...                  ...       ...   \n",
       "1032  Pismo Beach  ...  2021-02-23 07:15:00  2021-02-23 07:45:00      True   \n",
       "1033  Pismo Beach  ...  2021-02-24 08:00:00  2021-02-24 08:30:00      True   \n",
       "1034  Pismo Beach  ...  2021-02-25 07:30:00  2021-02-25 08:00:00      True   \n",
       "1035  Pismo Beach  ...  2021-02-26 07:45:00  2021-02-26 08:15:00      True   \n",
       "1036  Pismo Beach  ...  2021-02-28 08:45:00  2021-02-28 08:45:00      True   \n",
       "\n",
       "      Weather temperature (°F)  Weather type  \\\n",
       "2                         32.0    No weather   \n",
       "3                         32.0    No weather   \n",
       "4                         32.0    No weather   \n",
       "5                         32.0    No weather   \n",
       "6                         32.0    No weather   \n",
       "...                        ...           ...   \n",
       "1032                      53.6         Sunny   \n",
       "1033                      53.8         Sunny   \n",
       "1034                      53.4         Sunny   \n",
       "1035                      50.4         Sunny   \n",
       "1036                      59.2          Fair   \n",
       "\n",
       "                                                  Notes Time_in_bed_(minutes)  \\\n",
       "2                                                   NaN                   376   \n",
       "3                                                   NaN                   399   \n",
       "4                                                   NaN                   395   \n",
       "5                                                   NaN                   366   \n",
       "6                                                   NaN                   406   \n",
       "...                                                 ...                   ...   \n",
       "1032  Congested sinuses :Up on iPhone/tablet before bed                   530   \n",
       "1033  Allergy medicine before bed:Congested sinuses ...                   513   \n",
       "1034  Allergy medicine before bed:Congested sinuses ...                   500   \n",
       "1035  Aderrall:Bath:Long day at work. No free time.:...                   478   \n",
       "1036  Aderrall:Allergy medicine before bed:Congested...                   488   \n",
       "\n",
       "      Time_asleep_(minutes)  Time_before_sleep_(minutes)  Snore_time_(minutes)  \n",
       "2                       339                            8                     0  \n",
       "3                       357                            8                     0  \n",
       "4                       367                            8                     0  \n",
       "5                       359                            7                     0  \n",
       "6                       398                            8                     0  \n",
       "...                     ...                          ...                   ...  \n",
       "1032                    489                           11                     5  \n",
       "1033                    479                           15                    13  \n",
       "1034                    470                           10                    12  \n",
       "1035                    414                           46                     1  \n",
       "1036                    451                           10                     5  \n",
       "\n",
       "[587 rows x 21 columns]"
      ],
      "text/html": "<div>\n<style scoped>\n    .dataframe tbody tr th:only-of-type {\n        vertical-align: middle;\n    }\n\n    .dataframe tbody tr th {\n        vertical-align: top;\n    }\n\n    .dataframe thead th {\n        text-align: right;\n    }\n</style>\n<table border=\"1\" class=\"dataframe\">\n  <thead>\n    <tr style=\"text-align: right;\">\n      <th></th>\n      <th>Start</th>\n      <th>End</th>\n      <th>Sleep Quality</th>\n      <th>Regularity</th>\n      <th>Mood</th>\n      <th>Heart rate (bpm)</th>\n      <th>Steps</th>\n      <th>Alarm mode</th>\n      <th>Air Pressure (Pa)</th>\n      <th>City</th>\n      <th>...</th>\n      <th>Window start</th>\n      <th>Window stop</th>\n      <th>Did snore</th>\n      <th>Weather temperature (°F)</th>\n      <th>Weather type</th>\n      <th>Notes</th>\n      <th>Time_in_bed_(minutes)</th>\n      <th>Time_asleep_(minutes)</th>\n      <th>Time_before_sleep_(minutes)</th>\n      <th>Snore_time_(minutes)</th>\n    </tr>\n  </thead>\n  <tbody>\n    <tr>\n      <th>2</th>\n      <td>2016-02-11 23:47:33</td>\n      <td>2016-02-12 06:03:08</td>\n      <td>54</td>\n      <td>94</td>\n      <td>NaN</td>\n      <td>0</td>\n      <td>2558</td>\n      <td>Normal</td>\n      <td>102.0</td>\n      <td>NaN</td>\n      <td>...</td>\n      <td>2016-02-12 06:00:00</td>\n      <td>2016-02-12 06:30:00</td>\n      <td>False</td>\n      <td>32.0</td>\n      <td>No weather</td>\n      <td>NaN</td>\n      <td>376</td>\n      <td>339</td>\n      <td>8</td>\n      <td>0</td>\n    </tr>\n    <tr>\n      <th>3</th>\n      <td>2016-02-13 00:03:54</td>\n      <td>2016-02-13 06:43:22</td>\n      <td>61</td>\n      <td>93</td>\n      <td>NaN</td>\n      <td>0</td>\n      <td>6663</td>\n      <td>Normal</td>\n      <td>102.0</td>\n      <td>NaN</td>\n      <td>...</td>\n      <td>2016-02-13 06:15:00</td>\n      <td>2016-02-13 06:45:00</td>\n      <td>False</td>\n      <td>32.0</td>\n      <td>No weather</td>\n      <td>NaN</td>\n      <td>399</td>\n      <td>357</td>\n      <td>8</td>\n      <td>0</td>\n    </tr>\n    <tr>\n      <th>4</th>\n      <td>2016-02-15 23:52:50</td>\n      <td>2016-02-16 06:27:52</td>\n      <td>75</td>\n      <td>96</td>\n      <td>NaN</td>\n      <td>0</td>\n      <td>6423</td>\n      <td>Normal</td>\n      <td>101.4</td>\n      <td>NaN</td>\n      <td>...</td>\n      <td>2016-02-16 06:05:00</td>\n      <td>2016-02-16 06:35:00</td>\n      <td>False</td>\n      <td>32.0</td>\n      <td>No weather</td>\n      <td>NaN</td>\n      <td>395</td>\n      <td>367</td>\n      <td>8</td>\n      <td>0</td>\n    </tr>\n    <tr>\n      <th>5</th>\n      <td>2016-02-16 23:59:44</td>\n      <td>2016-02-17 06:06:09</td>\n      <td>72</td>\n      <td>96</td>\n      <td>NaN</td>\n      <td>0</td>\n      <td>3190</td>\n      <td>Normal</td>\n      <td>100.3</td>\n      <td>NaN</td>\n      <td>...</td>\n      <td>2016-02-17 05:45:00</td>\n      <td>2016-02-17 06:15:00</td>\n      <td>False</td>\n      <td>32.0</td>\n      <td>No weather</td>\n      <td>NaN</td>\n      <td>366</td>\n      <td>359</td>\n      <td>7</td>\n      <td>0</td>\n    </tr>\n    <tr>\n      <th>6</th>\n      <td>2016-02-18 23:37:39</td>\n      <td>2016-02-19 06:23:58</td>\n      <td>79</td>\n      <td>95</td>\n      <td>NaN</td>\n      <td>0</td>\n      <td>2893</td>\n      <td>Normal</td>\n      <td>101.5</td>\n      <td>NaN</td>\n      <td>...</td>\n      <td>2016-02-19 06:10:00</td>\n      <td>2016-02-19 06:40:00</td>\n      <td>False</td>\n      <td>32.0</td>\n      <td>No weather</td>\n      <td>NaN</td>\n      <td>406</td>\n      <td>398</td>\n      <td>8</td>\n      <td>0</td>\n    </tr>\n    <tr>\n      <th>...</th>\n      <td>...</td>\n      <td>...</td>\n      <td>...</td>\n      <td>...</td>\n      <td>...</td>\n      <td>...</td>\n      <td>...</td>\n      <td>...</td>\n      <td>...</td>\n      <td>...</td>\n      <td>...</td>\n      <td>...</td>\n      <td>...</td>\n      <td>...</td>\n      <td>...</td>\n      <td>...</td>\n      <td>...</td>\n      <td>...</td>\n      <td>...</td>\n      <td>...</td>\n      <td>...</td>\n    </tr>\n    <tr>\n      <th>1032</th>\n      <td>2021-02-22 23:09:43</td>\n      <td>2021-02-23 07:59:15</td>\n      <td>97</td>\n      <td>85</td>\n      <td>OK</td>\n      <td>0</td>\n      <td>3680</td>\n      <td>Normal</td>\n      <td>101.7</td>\n      <td>Pismo Beach</td>\n      <td>...</td>\n      <td>2021-02-23 07:15:00</td>\n      <td>2021-02-23 07:45:00</td>\n      <td>True</td>\n      <td>53.6</td>\n      <td>Sunny</td>\n      <td>Congested sinuses :Up on iPhone/tablet before bed</td>\n      <td>530</td>\n      <td>489</td>\n      <td>11</td>\n      <td>5</td>\n    </tr>\n    <tr>\n      <th>1033</th>\n      <td>2021-02-23 23:34:49</td>\n      <td>2021-02-24 08:07:43</td>\n      <td>91</td>\n      <td>89</td>\n      <td>OK</td>\n      <td>0</td>\n      <td>7117</td>\n      <td>Normal</td>\n      <td>101.5</td>\n      <td>Pismo Beach</td>\n      <td>...</td>\n      <td>2021-02-24 08:00:00</td>\n      <td>2021-02-24 08:30:00</td>\n      <td>True</td>\n      <td>53.8</td>\n      <td>Sunny</td>\n      <td>Allergy medicine before bed:Congested sinuses ...</td>\n      <td>513</td>\n      <td>479</td>\n      <td>15</td>\n      <td>13</td>\n    </tr>\n    <tr>\n      <th>1034</th>\n      <td>2021-02-24 23:15:55</td>\n      <td>2021-02-25 07:35:36</td>\n      <td>89</td>\n      <td>94</td>\n      <td>Good</td>\n      <td>53</td>\n      <td>4635</td>\n      <td>Normal</td>\n      <td>101.7</td>\n      <td>Pismo Beach</td>\n      <td>...</td>\n      <td>2021-02-25 07:30:00</td>\n      <td>2021-02-25 08:00:00</td>\n      <td>True</td>\n      <td>53.4</td>\n      <td>Sunny</td>\n      <td>Allergy medicine before bed:Congested sinuses ...</td>\n      <td>500</td>\n      <td>470</td>\n      <td>10</td>\n      <td>12</td>\n    </tr>\n    <tr>\n      <th>1035</th>\n      <td>2021-02-25 23:57:18</td>\n      <td>2021-02-26 07:54:59</td>\n      <td>90</td>\n      <td>93</td>\n      <td>OK</td>\n      <td>50</td>\n      <td>6302</td>\n      <td>Normal</td>\n      <td>101.8</td>\n      <td>Pismo Beach</td>\n      <td>...</td>\n      <td>2021-02-26 07:45:00</td>\n      <td>2021-02-26 08:15:00</td>\n      <td>True</td>\n      <td>50.4</td>\n      <td>Sunny</td>\n      <td>Aderrall:Bath:Long day at work. No free time.:...</td>\n      <td>478</td>\n      <td>414</td>\n      <td>46</td>\n      <td>1</td>\n    </tr>\n    <tr>\n      <th>1036</th>\n      <td>2021-02-28 00:37:37</td>\n      <td>2021-02-28 08:45:42</td>\n      <td>89</td>\n      <td>89</td>\n      <td>OK</td>\n      <td>59</td>\n      <td>6413</td>\n      <td>Normal</td>\n      <td>101.7</td>\n      <td>Pismo Beach</td>\n      <td>...</td>\n      <td>2021-02-28 08:45:00</td>\n      <td>2021-02-28 08:45:00</td>\n      <td>True</td>\n      <td>59.2</td>\n      <td>Fair</td>\n      <td>Aderrall:Allergy medicine before bed:Congested...</td>\n      <td>488</td>\n      <td>451</td>\n      <td>10</td>\n      <td>5</td>\n    </tr>\n  </tbody>\n</table>\n<p>587 rows × 21 columns</p>\n</div>"
     },
     "metadata": {},
     "execution_count": 7
    }
   ],
   "source": [
    "# Apply hours_mins function to series to convert from seconds to minutes\n",
    "df['Time_in_bed_(minutes)'] = df['Time in bed (seconds)'].apply(lambda x: hours_mins(x)[0])\n",
    "df['Time_asleep_(minutes)'] = df['Time asleep (seconds)'].apply(lambda x: hours_mins(x)[0])\n",
    "df['Time_before_sleep_(minutes)'] = df['Time before sleep (seconds)'].apply(lambda x: hours_mins(x)[0])\n",
    "df['Snore_time_(minutes)'] = df['Snore time'].apply(lambda x: hours_mins(x)[0])\n",
    "\n",
    "# Delete old time columns\n",
    "df.drop(columns=['Time asleep (seconds)', 'Time in bed (seconds)', 'Time before sleep (seconds)', 'Snore time'])\n",
    "\n"
   ]
  },
  {
   "cell_type": "code",
   "execution_count": 8,
   "metadata": {},
   "outputs": [
    {
     "output_type": "stream",
     "name": "stdout",
     "text": [
      "                    Start                  End  Sleep Quality  Regularity  \\\n2     2016-02-11 23:47:33  2016-02-12 06:03:08             54          94   \n3     2016-02-13 00:03:54  2016-02-13 06:43:22             61          93   \n4     2016-02-15 23:52:50  2016-02-16 06:27:52             75          96   \n5     2016-02-16 23:59:44  2016-02-17 06:06:09             72          96   \n6     2016-02-18 23:37:39  2016-02-19 06:23:58             79          95   \n...                   ...                  ...            ...         ...   \n1012  2021-01-26 23:02:48  2021-01-27 07:42:55             91          96   \n1013  2021-01-27 23:03:47  2021-01-28 07:53:03             95          97   \n1014  2021-01-28 23:12:49  2021-01-29 07:54:41             91          98   \n1015  2021-01-30 01:06:43  2021-01-30 08:39:29             70          92   \n1016  2021-01-31 23:10:51  2021-02-01 08:13:15             91          79   \n\n      Mood  Heart rate (bpm)  Steps Alarm mode  Air Pressure (Pa)  \\\n2      NaN                 0   2558     Normal              102.0   \n3      NaN                 0   6663     Normal              102.0   \n4      NaN                 0   6423     Normal              101.4   \n5      NaN                 0   3190     Normal              100.3   \n6      NaN                 0   2893     Normal              101.5   \n...    ...               ...    ...        ...                ...   \n1012    OK                63   5816     Normal              101.3   \n1013    OK                62   7049     Normal              100.8   \n1014    OK                53   5231     Normal              100.7   \n1015  Good                58   4779   No alarm              101.7   \n1016   Bad                52   6053     Normal              101.6   \n\n             City  ...          Window stop  Did snore  Snore time  \\\n2             NaN  ...  2016-02-12 06:30:00      False         0.0   \n3             NaN  ...  2016-02-13 06:45:00      False         0.0   \n4             NaN  ...  2016-02-16 06:35:00      False         0.0   \n5             NaN  ...  2016-02-17 06:15:00      False         0.0   \n6             NaN  ...  2016-02-19 06:40:00      False         0.0   \n...           ...  ...                  ...        ...         ...   \n1012  Pismo Beach  ...  2021-01-27 07:45:00       True       780.0   \n1013  Pismo Beach  ...  2021-01-28 07:55:00       True      1020.0   \n1014  Pismo Beach  ...  2021-01-29 08:00:00       True      1020.0   \n1015  Pismo Beach  ...                  NaN       True       420.0   \n1016  Pismo Beach  ...  2021-02-01 07:45:00       True       600.9   \n\n      Weather temperature (°F)   Weather type  \\\n2                         32.0     No weather   \n3                         32.0     No weather   \n4                         32.0     No weather   \n5                         32.0     No weather   \n6                         32.0     No weather   \n...                        ...            ...   \n1012                      49.3           Rain   \n1013                      52.3           Rain   \n1014                      47.1  Partly cloudy   \n1015                      41.4          Sunny   \n1016                      52.2  Partly cloudy   \n\n                                                  Notes  \\\n2                                                   NaN   \n3                                                   NaN   \n4                                                   NaN   \n5                                                   NaN   \n6                                                   NaN   \n...                                                 ...   \n1012  Ate late:Congested sinuses :Up on iPhone/table...   \n1013                     Up on iPhone/tablet before bed   \n1014   Up on iPhone/tablet before bed:Worked out at gym   \n1015  Allergy medicine before bed:Congested sinuses ...   \n1016  Aderrall:Up on iPhone/tablet before bed:Worked...   \n\n      Time_in_bed_(minutes)  Time_asleep_(minutes)  \\\n2                       376                    339   \n3                       399                    357   \n4                       395                    367   \n5                       366                    359   \n6                       406                    398   \n...                     ...                    ...   \n1012                    520                    489   \n1013                    529                    471   \n1014                    522                    440   \n1015                    453                    414   \n1016                    542                    468   \n\n      Time_before_sleep_(minutes) Snore_time_(minutes)  \n2                               8                    0  \n3                               8                    0  \n4                               8                    0  \n5                               7                    0  \n6                               8                    0  \n...                           ...                  ...  \n1012                           14                   13  \n1013                           44                   17  \n1014                           35                   17  \n1015                           21                    7  \n1016                           74                   10  \n\n[567 rows x 25 columns]\n"
     ]
    }
   ],
   "source": [
    "print(df.head(-20))"
   ]
  },
  {
   "cell_type": "code",
   "execution_count": 9,
   "metadata": {},
   "outputs": [
    {
     "output_type": "execute_result",
     "data": {
      "text/plain": [
       "\"\\ndf_notes = df[df['Notes'].notna()]\\ndf_smoked = df_notes[df_notes['Notes'].str.contains('Smoked')]\\ndf_no_smoke = df_notes[~df_notes['Notes'].str.contains('Smoked')]\\ndf_smoked.describe()\\n\""
      ]
     },
     "metadata": {},
     "execution_count": 9
    }
   ],
   "source": [
    "# Check correlations\n",
    "\"\"\"\n",
    "df_notes = df[df['Notes'].notna()]\n",
    "df_smoked = df_notes[df_notes['Notes'].str.contains('Smoked')]\n",
    "df_no_smoke = df_notes[~df_notes['Notes'].str.contains('Smoked')]\n",
    "df_smoked.describe()\n",
    "\"\"\"\n"
   ]
  },
  {
   "cell_type": "code",
   "execution_count": 10,
   "metadata": {},
   "outputs": [
    {
     "output_type": "execute_result",
     "data": {
      "text/plain": [
       "'\\nquality_delta = df_smoked[\\'Sleep Quality\\'].mean() - df_no_smoke[\\'Sleep Quality\\'].mean()\\nquality_delta = round(quality_delta,2)\\ntime_to_sleep = df_smoked[\\'Time before sleep (seconds)\\'].mean() - df_no_smoke[\\'Time before sleep (seconds)\\'].mean()\\ntime_to_sleep = round(time_to_sleep,2)\\nprint(f\"Sleep quality change on nights after drinking coffee: {quality_delta}%\")\\nprint(f\"Chane in time it takes to fall asleep after drinking coffee: {time_to_sleep}min\")\\n'"
      ]
     },
     "metadata": {},
     "execution_count": 10
    }
   ],
   "source": [
    "\"\"\"\n",
    "quality_delta = df_smoked['Sleep Quality'].mean() - df_no_smoke['Sleep Quality'].mean()\n",
    "quality_delta = round(quality_delta,2)\n",
    "time_to_sleep = df_smoked['Time before sleep (seconds)'].mean() - df_no_smoke['Time before sleep (seconds)'].mean()\n",
    "time_to_sleep = round(time_to_sleep,2)\n",
    "print(f\"Sleep quality change on nights after drinking coffee: {quality_delta}%\")\n",
    "print(f\"Chane in time it takes to fall asleep after drinking coffee: {time_to_sleep}min\")\n",
    "\"\"\""
   ]
  },
  {
   "cell_type": "code",
   "execution_count": 11,
   "metadata": {},
   "outputs": [],
   "source": [
    "# Function to show sleep quality with/without and delta\n",
    "# df is the cleaned dataframe\n",
    "# notesTerm is the Notes term to filter\n",
    "def sleepQualityDelta(df,notesTerm):\n",
    "    # Check correlations\n",
    "    df_notes = df[df['Mood'].notna()]\n",
    "    df_temp_with = df_notes[df_notes['Notes'].notna()]\n",
    "    df_with = df_temp_with[df_temp_with['Notes'].str.contains(notesTerm)]\n",
    "    #df_with = df_notes.loc[df_notes['Notes'].notna(), df_notes['Notes'].str.contains(notesTerm)]\n",
    "    df_notes['Notes'] = df_notes['Notes'].replace(np.nan, 'NA')\n",
    "    #df_notes['Notes'].fillna('NA')\n",
    "    #print(df_notes.head(10))\n",
    "    df_without = df_notes[~df_notes['Notes'].str.contains(notesTerm)]\n",
    "    df_with.describe()\n",
    "\n",
    "    # Mood\n",
    "    total_with = len(df_with.index)\n",
    "    ok_mood = len(df_with[df_with['Mood'] == 'OK'].index)\n",
    "    ok_mood_percent = (ok_mood/total_with)*100\n",
    "    good_mood = len(df_with[df_with['Mood'] == 'Good'].index)\n",
    "    good_mood_percent = (good_mood/total_with)*100\n",
    "    bad_mood = len(df_with[df_with['Mood'] == 'Bad'].index)\n",
    "    bad_mood_percent = (bad_mood/total_with)*100\n",
    "\n",
    "    total_without = len(df_without.index)\n",
    "    ok_mood_wo = len(df_without[df_without['Mood'] == 'OK'].index)\n",
    "    ok_mood_percent_wo = (ok_mood_wo/total_without)*100\n",
    "    good_mood_wo = len(df_without[df_without['Mood'] == 'Good'].index)\n",
    "    good_mood_percent_wo = (good_mood_wo/total_without)*100\n",
    "    bad_mood_wo = len(df_without[df_without['Mood'] == 'Bad'].index)\n",
    "    bad_mood_percent_wo = (bad_mood_wo/total_without)*100\n",
    "\n",
    "    ok_delta = ok_mood_percent - ok_mood_percent_wo\n",
    "    ok_delta = round(ok_delta,2)\n",
    "    good_delta = good_mood_percent - good_mood_percent_wo\n",
    "    good_delta = round(good_delta,2)\n",
    "    bad_delta = bad_mood_percent - bad_mood_percent_wo\n",
    "    bad_delta = round(bad_delta,2)\n",
    "    \n",
    "    # Get percent of time with/without\n",
    "    total_len = len(df_notes.index)\n",
    "    len_with = len(df_with.index)\n",
    "    percent_with = (len_with/total_len)*100\n",
    "    percent_with = round(percent_with,2)\n",
    "\n",
    "    # Change in sleep quality with/without\n",
    "    quality_delta = df_with['Sleep Quality'].mean() - df_without['Sleep Quality'].mean()\n",
    "    quality_delta = round(quality_delta,2)\n",
    "\n",
    "    # Change in time it takes to fall asleep with/without\n",
    "    time_to_sleep = df_with['Time_before_sleep_(minutes)'].mean() - df_without['Time_before_sleep_(minutes)'].mean()\n",
    "    time_to_sleep = round(time_to_sleep,2)\n",
    "\n",
    "    # Change in time asleep with/without\n",
    "    time_asleep = df_with['Time_asleep_(minutes)'].mean() - df_without['Time_asleep_(minutes)'].mean()\n",
    "    time_asleep = round(time_asleep,2)\n",
    "\n",
    "    # Change in snoring time with/without\n",
    "    time_snore = df_with['Snore_time_(minutes)'].mean() - df_without['Snore_time_(minutes)'].mean()\n",
    "    time_snore = round(time_snore,2)\n",
    "\n",
    "    print(f\"Percent of days with {notesTerm}: {percent_with}%\")\n",
    "    print(f\"Sleep quality change with {notesTerm}: {quality_delta}%\")\n",
    "    print(f\"Change in time it takes to fall asleep on days with {notesTerm}: {time_to_sleep}min\")\n",
    "    print(f\"Change in time asleep on days with {notesTerm}: {time_asleep}min\")\n",
    "    print(f\"Change in snoring time on days with {notesTerm}: {time_snore}min\")\n",
    "    print(f\"Change in neutral mood with {notesTerm}: {ok_delta}%\")\n",
    "    print(f\"Change in good mood with {notesTerm}: {good_delta}%\")\n",
    "    print(f\"Change in bad mood with {notesTerm}: {bad_delta}%\")\n",
    "\n",
    "\n",
    "\n"
   ]
  },
  {
   "cell_type": "code",
   "execution_count": 23,
   "metadata": {},
   "outputs": [
    {
     "output_type": "stream",
     "name": "stdout",
     "text": [
      "Percent of days with Allergy medicine: 22.05%\n",
      "Sleep quality change with Allergy medicine: 2.13%\n",
      "Change in time it takes to fall asleep on days with Allergy medicine: -1.47min\n",
      "Change in time asleep on days with Allergy medicine: 27.63min\n",
      "Change in snoring time on days with Allergy medicine: 2.84min\n",
      "Change in neutral mood with Allergy medicine: -10.4%\n",
      "Change in good mood with Allergy medicine: 22.75%\n",
      "Change in bad mood with Allergy medicine: -12.35%\n",
      "ipykernel_launcher:10: SettingWithCopyWarning: \n",
      "A value is trying to be set on a copy of a slice from a DataFrame.\n",
      "Try using .loc[row_indexer,col_indexer] = value instead\n",
      "\n",
      "See the caveats in the documentation: https://pandas.pydata.org/pandas-docs/stable/user_guide/indexing.html#returning-a-view-versus-a-copy\n"
     ]
    }
   ],
   "source": [
    "sleepQualityDelta(df,'Allergy medicine')"
   ]
  },
  {
   "cell_type": "code",
   "execution_count": 22,
   "metadata": {
    "tags": []
   },
   "outputs": [
    {
     "output_type": "stream",
     "name": "stdout",
     "text": [
      "{'Headache', 'Long day at work. No free time.', 'Tired', 'Allergy medicine before bed', 'Aderrall', '2 or more coffee cups of caffeine ', 'Ate late', 'Meditated in the evening/night', 'Congested sinuses ', 'Sore lumbar', 'Drank more than 1 alc beverage ', 'Up on iPhone/tablet before bed', 'Sick', 'Worked out at gym', 'Sore neck', 'Nap', 'Bath', 'Not my bed', 'Stressful day', 'Played soccer', 'Very chill day', 'Up on computer before sleep', 'Pickle', 'Smoked weed'}\n"
     ]
    }
   ],
   "source": [
    "df_notes = df[df['Notes'].notna()]\n",
    "out = set()\n",
    "for items in df_notes['Notes']:\n",
    "    note_list = items.split(':') \n",
    "    #print(note)\n",
    "    out.update({note for note in note_list})\n",
    "print(out)\n"
   ]
  },
  {
   "cell_type": "code",
   "execution_count": null,
   "metadata": {},
   "outputs": [],
   "source": []
  }
 ],
 "metadata": {
  "kernelspec": {
   "display_name": "Python 3",
   "language": "python",
   "name": "python3"
  },
  "language_info": {
   "codemirror_mode": {
    "name": "ipython",
    "version": 3
   },
   "file_extension": ".py",
   "mimetype": "text/x-python",
   "name": "python",
   "nbconvert_exporter": "python",
   "pygments_lexer": "ipython3",
   "version": "3.7.6"
  }
 },
 "nbformat": 4,
 "nbformat_minor": 2
}